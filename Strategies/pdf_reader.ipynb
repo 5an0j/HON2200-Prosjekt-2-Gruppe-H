{
 "cells": [
  {
   "cell_type": "markdown",
   "metadata": {},
   "source": [
    "Programmet leser pdf-er i 'infolder' og gir tekstfiler i 'outfolder' med OCR. Det er helautomatisert, men det tar grusomt lang tid å kjøre og krever at man har installert tesseract og poppler. Fordi vi gjør bag-of-words er det ingen grunn til å gjøre noe særlig behandling av tekstdokumentene før analysen."
   ]
  },
  {
   "cell_type": "code",
   "execution_count": null,
   "metadata": {},
   "outputs": [],
   "source": [
    "import os\n",
    "from pdf2image import convert_from_path # poppler must be installed and added to path\n",
    "import pytesseract # the tesseract must be installed locally and possibly added to path\n",
    "# pytesseract.pytesseract.tesseract_cmd = r'C:\\Program Files\\Tesseract-OCR\\tesseract.exe' # should be superflous if in path"
   ]
  },
  {
   "cell_type": "code",
   "execution_count": 2,
   "metadata": {},
   "outputs": [],
   "source": [
    "infolder = \"./pdf\" # change source folder here\n",
    "outfolder = \"./txt\" # change destination folder here"
   ]
  },
  {
   "cell_type": "code",
   "execution_count": 3,
   "metadata": {},
   "outputs": [
    {
     "name": "stdout",
     "output_type": "stream",
     "text": [
      "tried\n",
      "success?\n",
      "tried\n",
      "success?\n",
      "tried\n",
      "success?\n",
      "tried\n",
      "success?\n",
      "[]\n"
     ]
    }
   ],
   "source": [
    "# Loops over all pdf-files in source folder and saves txt-files to the destination folder\n",
    "\n",
    "errors = []\n",
    "for filename in os.listdir(infolder):\n",
    "    in_path = os.path.join(infolder, filename)\n",
    "\n",
    "    try:\n",
    "        # casting pdf pages to images in memory\n",
    "        pages = convert_from_path(in_path)\n",
    "\n",
    "        filename = filename[:-4]\n",
    "        filename += '.txt'\n",
    "        out_path = os.path.join(outfolder, filename)\n",
    "\n",
    "        # writing to txt\n",
    "        with open(out_path, 'w', encoding='utf-8') as outfile:\n",
    "            for page in pages:\n",
    "                outfile.write(pytesseract.image_to_string(page))\n",
    "    \n",
    "    except:\n",
    "        errors.append(in_path)\n",
    "\n",
    "print(errors)"
   ]
  }
 ],
 "metadata": {
  "kernelspec": {
   "display_name": "AIbase",
   "language": "python",
   "name": "python3"
  },
  "language_info": {
   "codemirror_mode": {
    "name": "ipython",
    "version": 3
   },
   "file_extension": ".py",
   "mimetype": "text/x-python",
   "name": "python",
   "nbconvert_exporter": "python",
   "pygments_lexer": "ipython3",
   "version": "3.12.4"
  }
 },
 "nbformat": 4,
 "nbformat_minor": 2
}
