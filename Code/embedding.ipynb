{
 "cells": [
  {
   "cell_type": "markdown",
   "id": "f50b2959",
   "metadata": {},
   "source": [
    "Dette programmet gjør en stilistisk analyse av strategiene med embeddings (topografisk analyse, se Toubia et al., 2021). Dette er for å sammenlikne og se om noen skiller seg sterkt fra de andre, men er ikke ellers veldig interessant for våre formål. Det er likevel en betydelig (om noe uinteressant) utvidelse av nøkkelordsanalysen.\n",
    "\n",
    "Også dette programmet tar evigheter å kjøre (først og fremst tar embeddingen grusomt lang tid (uten GPU/cuda), og deretter løser vi noen halvtunge optimeringsproblemer (TSP og volumberegninger, se Topography.py))."
   ]
  },
  {
   "cell_type": "code",
   "execution_count": 1,
   "id": "bfc5f724",
   "metadata": {},
   "outputs": [
    {
     "name": "stdout",
     "output_type": "stream",
     "text": [
      "load c:\\Users\\jonas\\anaconda3\\envs\\AIbase\\Lib\\site-packages\\ortools\\.libs\\zlib1.dll...\n",
      "load c:\\Users\\jonas\\anaconda3\\envs\\AIbase\\Lib\\site-packages\\ortools\\.libs\\abseil_dll.dll...\n",
      "load c:\\Users\\jonas\\anaconda3\\envs\\AIbase\\Lib\\site-packages\\ortools\\.libs\\utf8_validity.dll...\n",
      "load c:\\Users\\jonas\\anaconda3\\envs\\AIbase\\Lib\\site-packages\\ortools\\.libs\\re2.dll...\n",
      "load c:\\Users\\jonas\\anaconda3\\envs\\AIbase\\Lib\\site-packages\\ortools\\.libs\\libprotobuf.dll...\n",
      "load c:\\Users\\jonas\\anaconda3\\envs\\AIbase\\Lib\\site-packages\\ortools\\.libs\\highs.dll...\n",
      "load c:\\Users\\jonas\\anaconda3\\envs\\AIbase\\Lib\\site-packages\\ortools\\.libs\\ortools.dll...\n"
     ]
    },
    {
     "name": "stderr",
     "output_type": "stream",
     "text": [
      "c:\\Users\\jonas\\anaconda3\\envs\\AIbase\\Lib\\site-packages\\sentence_transformers\\cross_encoder\\CrossEncoder.py:13: TqdmExperimentalWarning: Using `tqdm.autonotebook.tqdm` in notebook mode. Use `tqdm.tqdm` instead to force console mode (e.g. in jupyter console)\n",
      "  from tqdm.autonotebook import tqdm, trange\n"
     ]
    }
   ],
   "source": [
    "from Topography import Topography\n",
    "\n",
    "import pandas as pd\n",
    "import os\n",
    "import gc"
   ]
  },
  {
   "cell_type": "code",
   "execution_count": 3,
   "id": "fbf2509d",
   "metadata": {},
   "outputs": [
    {
     "name": "stdout",
     "output_type": "stream",
     "text": [
      "              Country                                   Embeddings (500)  \\\n",
      "0  Brazil_summary.txt  [[-0.21755669, 0.33351547, -0.7115478, -0.2464...   \n",
      "1           China.txt  [[-0.09726964, 0.08906725, -0.09776214, -0.488...   \n",
      "2              EU.txt  [[0.030849582, 0.33885244, -1.0729142, 0.29462...   \n",
      "3          Norway.txt  [[0.6098222, 0.508988, -0.12597772, 0.23846106...   \n",
      "4          Poland.txt  [[-0.15160954, -0.050911434, 0.23864263, 0.168...   \n",
      "5             USA.txt  [[0.2750075, -0.16566397, 0.05493906, 0.205856...   \n",
      "\n",
      "     volume     speed  circuitousness  \n",
      "0  1.865337  2.299453        0.060147  \n",
      "1  2.003385  2.433337        0.062631  \n",
      "2  1.922355  2.311660        0.052566  \n",
      "3  2.027906  2.439491        0.058022  \n",
      "4  1.906332  2.360219        0.104344  \n",
      "5  1.938302  2.306274        0.030646  \n"
     ]
    }
   ],
   "source": [
    "folder = \"./txt\" # change source folder here\n",
    "chunksize = 500 # change chunksize here\n",
    "\n",
    "\n",
    "data = []\n",
    "\n",
    "for filename in os.listdir(folder):\n",
    "    file_path = os.path.join(folder, filename)\n",
    "\n",
    "    if os.path.isfile(file_path):\n",
    "        # Analysis\n",
    "        text = Topography(file_path)\n",
    "        text.embed(chunksize=chunksize)\n",
    "        embeddings = text.embeddings\n",
    "        volume = text.volume()\n",
    "        speed, circuitousness = text.speed()\n",
    "        data.append([filename, embeddings, volume, speed, circuitousness])\n",
    "\n",
    "        del text\n",
    "        gc.collect() # python's automatic gc is bad\n",
    "\n",
    "    else:\n",
    "        msg = \"-\"*50 + f\"\\nFound no file with {filename}\\n\" + \"-\"*50 + \"\\n\"\n",
    "        print(msg)\n",
    "    \n",
    "df = pd.DataFrame(data, columns=['Country', f'Embeddings ({chunksize})', 'volume', 'speed', 'circuitousness'])\n",
    "print(df)\n"
   ]
  },
  {
   "cell_type": "code",
   "execution_count": 4,
   "id": "2479e1ac",
   "metadata": {},
   "outputs": [],
   "source": [
    "df.to_csv(\"embeddings.csv\", index=False)"
   ]
  }
 ],
 "metadata": {
  "kernelspec": {
   "display_name": "AIbase",
   "language": "python",
   "name": "python3"
  },
  "language_info": {
   "codemirror_mode": {
    "name": "ipython",
    "version": 3
   },
   "file_extension": ".py",
   "mimetype": "text/x-python",
   "name": "python",
   "nbconvert_exporter": "python",
   "pygments_lexer": "ipython3",
   "version": "3.12.4"
  }
 },
 "nbformat": 4,
 "nbformat_minor": 5
}
